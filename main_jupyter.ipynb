{
 "cells": [
  {
   "cell_type": "markdown",
   "id": "d3fe55ae",
   "metadata": {},
   "source": [
    "## 통계 활용대회\n",
    "### 토픽모델링을 통한 고용형태 변화 탐색"
   ]
  },
  {
   "cell_type": "markdown",
   "id": "12d17d04",
   "metadata": {},
   "source": [
    "#### - 주요 패키지와 데이터 불러오기"
   ]
  },
  {
   "cell_type": "code",
   "execution_count": 37,
   "id": "059b0034",
   "metadata": {},
   "outputs": [],
   "source": [
    "import pandas as pd\n",
    "import numpy as np\n",
    "from gensim.models import Word2Vec\n",
    "from tqdm.notebook import tqdm\n",
    "import matplotlib.pyplot as plt\n",
    "import seaborn as sns\n",
    "from matplotlib import font_manager, rc\n",
    "\n",
    "# 글씨체\n",
    "font_name = font_manager.FontProperties(fname='C:/Windows/Fonts/H2HDRM.TTF').get_name()\n",
    "rc('font', family=font_name)\n",
    "\n",
    "# 데이터 불러오기 각각 19년 20년 기사\n",
    "data2019 = pd.read_excel('2019gisa.xlsx')\n",
    "data2020 = pd.read_excel('2020gisa.xlsx')\n",
    "\n",
    "# text 형식의 데이터 list 형태로 바꿔 주기\n",
    "data2019['words'] = [i.replace(\"'\", \"\").replace('[', '').replace(']', '').replace(' ', '').split(',') for i in\n",
    "                     list(data2019['words'])]  # words가 텍스트 형식으로 되어 있을 경우\n",
    "data2020['words'] = [i.replace(\"'\", \"\").replace('[', '').replace(']', '').replace(' ', '').split(',') for i in\n",
    "                     list(data2020['words'])]  # words가 텍스트 형식으로 되어 있을 경우"
   ]
  },
  {
   "cell_type": "markdown",
   "id": "af6c56fa",
   "metadata": {},
   "source": [
    "#### - 분석대상 키워드 별로 기사량 확인하기"
   ]
  },
  {
   "cell_type": "code",
   "execution_count": 10,
   "id": "398d58e8",
   "metadata": {},
   "outputs": [
    {
     "data": {
      "text/html": [
       "<div>\n",
       "<style scoped>\n",
       "    .dataframe tbody tr th:only-of-type {\n",
       "        vertical-align: middle;\n",
       "    }\n",
       "\n",
       "    .dataframe tbody tr th {\n",
       "        vertical-align: top;\n",
       "    }\n",
       "\n",
       "    .dataframe thead th {\n",
       "        text-align: right;\n",
       "    }\n",
       "</style>\n",
       "<table border=\"1\" class=\"dataframe\">\n",
       "  <thead>\n",
       "    <tr style=\"text-align: right;\">\n",
       "      <th></th>\n",
       "      <th>keyword</th>\n",
       "      <th>count2019</th>\n",
       "      <th>count2020</th>\n",
       "      <th>rate</th>\n",
       "    </tr>\n",
       "  </thead>\n",
       "  <tbody>\n",
       "    <tr>\n",
       "      <th>0</th>\n",
       "      <td>유통</td>\n",
       "      <td>3136</td>\n",
       "      <td>3122</td>\n",
       "      <td>-0.004464</td>\n",
       "    </tr>\n",
       "    <tr>\n",
       "      <th>1</th>\n",
       "      <td>청년</td>\n",
       "      <td>1717</td>\n",
       "      <td>1456</td>\n",
       "      <td>-0.152009</td>\n",
       "    </tr>\n",
       "    <tr>\n",
       "      <th>2</th>\n",
       "      <td>근로자</td>\n",
       "      <td>1184</td>\n",
       "      <td>1932</td>\n",
       "      <td>0.631757</td>\n",
       "    </tr>\n",
       "    <tr>\n",
       "      <th>3</th>\n",
       "      <td>노동자</td>\n",
       "      <td>752</td>\n",
       "      <td>1235</td>\n",
       "      <td>0.642287</td>\n",
       "    </tr>\n",
       "    <tr>\n",
       "      <th>4</th>\n",
       "      <td>배달</td>\n",
       "      <td>534</td>\n",
       "      <td>1353</td>\n",
       "      <td>1.533708</td>\n",
       "    </tr>\n",
       "    <tr>\n",
       "      <th>5</th>\n",
       "      <td>재택근무</td>\n",
       "      <td>8</td>\n",
       "      <td>1558</td>\n",
       "      <td>193.750000</td>\n",
       "    </tr>\n",
       "    <tr>\n",
       "      <th>6</th>\n",
       "      <td>화상회의</td>\n",
       "      <td>19</td>\n",
       "      <td>739</td>\n",
       "      <td>37.894737</td>\n",
       "    </tr>\n",
       "    <tr>\n",
       "      <th>7</th>\n",
       "      <td>택배</td>\n",
       "      <td>264</td>\n",
       "      <td>615</td>\n",
       "      <td>1.329545</td>\n",
       "    </tr>\n",
       "    <tr>\n",
       "      <th>8</th>\n",
       "      <td>출퇴근</td>\n",
       "      <td>310</td>\n",
       "      <td>499</td>\n",
       "      <td>0.609677</td>\n",
       "    </tr>\n",
       "    <tr>\n",
       "      <th>9</th>\n",
       "      <td>유연근무제</td>\n",
       "      <td>49</td>\n",
       "      <td>115</td>\n",
       "      <td>1.346939</td>\n",
       "    </tr>\n",
       "  </tbody>\n",
       "</table>\n",
       "</div>"
      ],
      "text/plain": [
       "  keyword  count2019  count2020        rate\n",
       "0      유통       3136       3122   -0.004464\n",
       "1      청년       1717       1456   -0.152009\n",
       "2     근로자       1184       1932    0.631757\n",
       "3     노동자        752       1235    0.642287\n",
       "4      배달        534       1353    1.533708\n",
       "5    재택근무          8       1558  193.750000\n",
       "6    화상회의         19        739   37.894737\n",
       "7      택배        264        615    1.329545\n",
       "8     출퇴근        310        499    0.609677\n",
       "9   유연근무제         49        115    1.346939"
      ]
     },
     "execution_count": 10,
     "metadata": {},
     "output_type": "execute_result"
    }
   ],
   "source": [
    "# 분석대상 키워드 (분석대상 키워드는 통계청 뉴스기반 검색사이트를 사용하여 임의로 정했음)\n",
    "keyword_list = ['유통', '청년', '근로자', '노동자', '배달', '재택근무',\n",
    "                '화상회의', '택배', '출퇴근', '유연근무제']\n",
    "\n",
    "# 키워드별 기사량 증감율 확인하기\n",
    "# 년도별 키워드별 기사량 확인하기\n",
    "count2019 = []\n",
    "for k in keyword_list:\n",
    "    j = 0\n",
    "    for i in data2019['words']:\n",
    "        if k in i:\n",
    "            j += 1\n",
    "    count2019.append(j)\n",
    "\n",
    "count2020 = []\n",
    "for k in keyword_list:\n",
    "    j = 0\n",
    "    for i in data2020['words']:\n",
    "        if k in i:\n",
    "            j += 1\n",
    "    count2020.append(j)\n",
    "\n",
    "keyword_data = pd.DataFrame({'keyword': keyword_list, 'count2019': count2019, 'count2020': count2020})\n",
    "keyword_data['rate'] = [(i - j) / j for i, j in zip(count2020, count2019)]  # 증가율 계산하기\n",
    "\n",
    "keyword_data"
   ]
  },
  {
   "cell_type": "markdown",
   "id": "de9f2209",
   "metadata": {},
   "source": [
    "#### - 증감율 시각화 하기"
   ]
  },
  {
   "cell_type": "code",
   "execution_count": 14,
   "id": "91db713c",
   "metadata": {},
   "outputs": [
    {
     "data": {
      "image/png": "[encoded data removed]",
      "text/plain": [
       "<Figure size 864x504 with 1 Axes>"
      ]
     },
     "metadata": {
      "needs_background": "light"
     },
     "output_type": "display_data"
    }
   ],
   "source": [
    "# 그래프를 그려 증감율 확인하기\n",
    "plt.figure(figsize=(12,7))\n",
    "plt.plot()\n",
    "g = sns.barplot(x=keyword_data['keyword'], y=keyword_data['rate'])\n",
    "for i, j in enumerate(keyword_data['rate']):\n",
    "    g.text(x=i - 0.3, y=j, s=\"{:.1f}%\".format(j))"
   ]
  },
  {
   "cell_type": "markdown",
   "id": "c3d03024",
   "metadata": {},
   "source": [
    "#### - 키워드에 따른 뉴스 분류를 위해 (1) 사전방식 을 이용"
   ]
  },
  {
   "cell_type": "code",
   "execution_count": 16,
   "id": "a2e663ea",
   "metadata": {},
   "outputs": [
    {
     "name": "stderr",
     "output_type": "stream",
     "text": [
      "<ipython-input-16-f574b8e764d6>:10: SettingWithCopyWarning: \n",
      "A value is trying to be set on a copy of a slice from a DataFrame\n",
      "\n",
      "See the caveats in the documentation: https://pandas.pydata.org/pandas-docs/stable/user_guide/indexing.html#returning-a-view-versus-a-copy\n",
      "  data2019[i][j] = 1\n",
      "<ipython-input-16-f574b8e764d6>:13: SettingWithCopyWarning: \n",
      "A value is trying to be set on a copy of a slice from a DataFrame\n",
      "\n",
      "See the caveats in the documentation: https://pandas.pydata.org/pandas-docs/stable/user_guide/indexing.html#returning-a-view-versus-a-copy\n",
      "  data2020[i][j] = 1\n"
     ]
    },
    {
     "name": "stdout",
     "output_type": "stream",
     "text": [
      "0    59009\n",
      "1     1717\n",
      "Name: 청년, dtype: int64\n",
      "0    62205\n",
      "1     1456\n",
      "Name: 청년, dtype: int64\n"
     ]
    }
   ],
   "source": [
    "# 키워드에 따른 뉴스분류를 사전방식과 word2vec 방법을 이용\n",
    "# 사전 방식으로 뉴스 분류 (포함어 방식)\n",
    "for i in keyword_list:\n",
    "    data2019[i] = 0\n",
    "    data2020[i] = 0\n",
    "\n",
    "# 뉴스 기사에 키워드가 있으면 1, 아니면 0으로 라벨링\n",
    "for i in keyword_list:\n",
    "    for j in range(len(data2019)):\n",
    "        if i in data2019['words'][j]:\n",
    "            data2019[i][j] = 1\n",
    "    for j in range(len(data2020)):\n",
    "        if i in data2020['words'][j]:\n",
    "            data2020[i][j] = 1\n",
    "\n",
    "# 잘 되었는지 확인\n",
    "print(data2019['청년'].value_counts())\n",
    "print(data2020['청년'].value_counts())"
   ]
  },
  {
   "cell_type": "markdown",
   "id": "0cd54d47",
   "metadata": {},
   "source": [
    "#### - word2vec 모델 만들기"
   ]
  },
  {
   "cell_type": "code",
   "execution_count": 20,
   "id": "519d2cb4",
   "metadata": {},
   "outputs": [],
   "source": [
    "# word2vec 분석하기\n",
    "from gensim.models import KeyedVectors\n",
    "try:\n",
    "    embedding_model = KeyedVectors.load_word2vec_format(\"new_w2v\")  # 모델 로드\n",
    "except:\n",
    "    embedding_model = Word2Vec(pd.concat([data2020['words'], data2019['words']]), vector_size=100, window=5,\n",
    "                               min_count=30,\n",
    "                               workers=4, epochs=50)\n",
    "    embedding_model.wv.save_word2vec_format('new_w2v')  # 모델 저장"
   ]
  },
  {
   "cell_type": "code",
   "execution_count": 36,
   "id": "13d26d79",
   "metadata": {},
   "outputs": [
    {
     "data": {
      "text/plain": [
       "0        ['코로나', '확산', '오늘', '주년', '삼일절', '기념', '식이', '...\n",
       "1        ['정부', '공모', '사업', '지난해', '발굴', '홍춘', '삼척', '삼...\n",
       "2        ['대구', '지역', '코로나', '진자', '급증', '신천지', '연관', '...\n",
       "3        ['이미지', '출처', '아시아', '경제', '김현정', '신종', '코로나바이...\n",
       "4        ['김선경', '수출', '코로나', '악재', '불구', '개월', '증가', '...\n",
       "                               ...                        \n",
       "63656    ['공주', '페이', '할인', '지원', '공영', '주차장', '무료', '개...\n",
       "63657    ['이상', '창업', '배출', '한남대', '창업', '원단', '개최', '나...\n",
       "63658    ['한국', '경제', '이영호', '정부', '신종', '코로나바이러스', '감염...\n",
       "63659    ['전공', '무기한', '파업', '지속', '서울', '종로구', '서울대', ...\n",
       "63660    ['코로나', '확산', '정부', '수도권', '거리', '두기', '강화', '...\n",
       "Name: words, Length: 63661, dtype: object"
      ]
     },
     "execution_count": 36,
     "metadata": {},
     "output_type": "execute_result"
    }
   ],
   "source": [
    "pd.concat([data2020['words'], data2019['words']])\n",
    "embedding_model.wv.index_to_key\n",
    "data2020['words']"
   ]
  },
  {
   "cell_type": "code",
   "execution_count": null,
   "id": "68639fdb",
   "metadata": {},
   "outputs": [],
   "source": [
    "embedding_model.wv.most_similar('유통', topn=10)\n",
    "\n",
    "\n",
    "# 기사들이 해당 키워드와 얼마나 관련이 있는지 점수를 매기는 함수 word2vec 유사도 점수를 활용\n",
    "def scoring(word, keyword):\n",
    "    avg_dist = []\n",
    "    dist = []\n",
    "    dist_dist = []\n",
    "    for i in tqdm(range(len(word))):\n",
    "        for k in word[i]:\n",
    "            try:\n",
    "                # 비교하여 similarity 구하기\n",
    "                dist_dist.append(embedding_model.wv.similarity(keyword, k))\n",
    "            except:\n",
    "                dist_dist.append(0)\n",
    "            dist.append(np.array(dist_dist))\n",
    "            dist_dist = []\n",
    "        avg_dist.append(np.mean(dist))\n",
    "        dist = []\n",
    "    return avg_dist\n",
    "\n",
    "\n",
    "for i in keyword_list:\n",
    "    globals()['data2019' + i] = data2019[data2019[i] == 1].reset_index(drop=True)\n",
    "    globals()['data2019' + i]['score'] = scoring(globals()['data2019' + i]['words'], i)\n",
    "    globals()['data2020' + i] = data2020[data2020[i] == 1].reset_index(drop=True)\n",
    "    globals()['data2020' + i]['score'] = scoring(globals()['data2020' + i]['words'], i)\n",
    "    \n",
    "data2019"
   ]
  },
  {
   "cell_type": "markdown",
   "id": "c5fb70bf",
   "metadata": {},
   "source": [
    "#### 각 기사들이 키워드와 얼마나 관련이 있는지 코사인 유사도를 이용해 스코어링"
   ]
  },
  {
   "cell_type": "code",
   "execution_count": null,
   "id": "44aad8f0",
   "metadata": {},
   "outputs": [],
   "source": [
    "\n",
    "# 나눠진 데이터 별로 토픽모델링 실시\n",
    "import gensim\n",
    "import gensim.corpora as corpora\n",
    "from gensim.models import CoherenceModel\n",
    "\n",
    "def topic(word):\n",
    "    texts = word\n",
    "    id2word = corpora.Dictionary(texts)\n",
    "    corpus = [id2word.doc2bow(text) for text in texts]\n",
    "\n",
    "    def compute_coherence_values(dictionary, corpus, texts, limit, start=2, step=3):\n",
    "        coherence_values = []\n",
    "        model_list = []\n",
    "        for num_topics in tqdm(range(start, limit, step)):\n",
    "\n",
    "            model = gensim.models.ldamodel.LdaModel(corpus=corpus,\n",
    "                                                    id2word=id2word,\n",
    "                                                    num_topics=num_topics,\n",
    "                                                    random_state=100,\n",
    "                                                    update_every=1,\n",
    "                                                    chunksize=100,\n",
    "                                                    passes=10,\n",
    "                                                    alpha='auto',\n",
    "                                                    per_word_topics=True)\n",
    "            model_list.append(model)\n",
    "            coherencemodel = CoherenceModel(model=model, texts=texts, dictionary=dictionary, coherence='c_v')\n",
    "            coherence_values.append(coherencemodel.get_coherence())\n",
    "        return model_list, coherence_values\n",
    "    model_list, coherence_values = compute_coherence_values(dictionary=id2word, corpus=corpus, texts=texts, start=2,\n",
    "                                                            limit=20, step=1)\n",
    "\n",
    "    # Show graph\n",
    "    limit = 20; start = 2; step = 1;\n",
    "    x = range(start, limit, step)\n",
    "    plt.plot(x, coherence_values)\n",
    "    plt.xlabel(\"Num Topics\")\n",
    "    plt.ylabel(\"Coherence score\")\n",
    "    plt.legend((\"coherence_values\"), loc='best')\n",
    "    plt.show()\n",
    "    print(coherence_values.index(max(coherence_values)) + 2,'개의 주제가 이상적')\n",
    "    #print(word)\n",
    "    #주제 dataframe화 하기\n",
    "    coherence_values.index(max(coherence_values))\n",
    "    optimal_model = model_list[coherence_values.index(max(coherence_values))]\n",
    "    topic_dic = {}\n",
    "    for i in range(coherence_values.index(max(coherence_values)) + 2):\n",
    "        words2 = optimal_model.show_topic(i, topn=20)\n",
    "        topic_dic['topic ' + '{:02d}'.format(i + 1)] = [i[0] for i in words2]\n",
    "    da = pd.DataFrame(topic_dic)\n",
    "    return da\n",
    "\n",
    "a = topic(data2019근로자['words'])\n",
    "\n",
    "# 나뉘어진 데이터 프레임 별로 토픽모델링\n",
    "for i in keyword_list:\n",
    "    globals()['topic2020' + i] = topic(globals()['data2020' + i]['words'])\n",
    "\n",
    "# 이후 토픽모델링 결과를 살펴보고 고용 트렌드 변화 예측\n"
   ]
  }
 ],
 "metadata": {
  "kernelspec": {
   "display_name": "Python 3",
   "language": "python",
   "name": "python3"
  },
  "language_info": {
   "codemirror_mode": {
    "name": "ipython",
    "version": 3
   },
   "file_extension": ".py",
   "mimetype": "text/x-python",
   "name": "python",
   "nbconvert_exporter": "python",
   "pygments_lexer": "ipython3",
   "version": "3.9.4"
  }
 },
 "nbformat": 4,
 "nbformat_minor": 5
}
